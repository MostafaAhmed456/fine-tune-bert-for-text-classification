{
 "cells": [
  {
   "cell_type": "markdown",
   "metadata": {
    "id": "ofKE4FhaViyR"
   },
   "source": [
    "<h2 align=center> Fine-Tune BERT for Text Classification with TensorFlow</h2>\n"
   ]
  },
  {
   "cell_type": "markdown",
   "metadata": {
    "id": "w-XAHmUDemSd"
   },
   "source": [
    "<div align=\"center\">\n",
    "    <img width=\"512px\" src='BERT_Layer.png' />\n",
    "    <p style=\"text-align: center;color:gray\">Figure 1: BERT Classification Model</p>\n",
    "</div>"
   ]
  },
  {
   "cell_type": "markdown",
   "metadata": {
    "id": "g1680ic1dknd"
   },
   "source": [
    "- to run this notebook, connect to the colab GPU \n",
    "- clone tensorlfow models offical repo \n",
    "    https://github.com/tensorflow/models.git\n",
    "- install the requirments from the offical repo\n",
    "- and check tensorflow installation\n",
    "- check nvidia-smi"
   ]
  },
  {
   "cell_type": "code",
   "execution_count": 1,
   "metadata": {
    "colab": {
     "base_uri": "https://localhost:8080/"
    },
    "id": "tCk6SmN5VjTr",
    "outputId": "0c727e6a-854e-42a7-aa27-5061537bc9dd"
   },
   "outputs": [
    {
     "name": "stdout",
     "output_type": "stream",
     "text": [
      "Tue Dec  1 19:39:25 2020       \n",
      "+-----------------------------------------------------------------------------+\n",
      "| NVIDIA-SMI 455.38       Driver Version: 418.67       CUDA Version: 10.1     |\n",
      "|-------------------------------+----------------------+----------------------+\n",
      "| GPU  Name        Persistence-M| Bus-Id        Disp.A | Volatile Uncorr. ECC |\n",
      "| Fan  Temp  Perf  Pwr:Usage/Cap|         Memory-Usage | GPU-Util  Compute M. |\n",
      "|                               |                      |               MIG M. |\n",
      "|===============================+======================+======================|\n",
      "|   0  Tesla T4            Off  | 00000000:00:04.0 Off |                    0 |\n",
      "| N/A   59C    P8    10W /  70W |      0MiB / 15079MiB |      0%      Default |\n",
      "|                               |                      |                 ERR! |\n",
      "+-------------------------------+----------------------+----------------------+\n",
      "                                                                               \n",
      "+-----------------------------------------------------------------------------+\n",
      "| Processes:                                                                  |\n",
      "|  GPU   GI   CI        PID   Type   Process name                  GPU Memory |\n",
      "|        ID   ID                                                   Usage      |\n",
      "|=============================================================================|\n",
      "|  No running processes found                                                 |\n",
      "+-----------------------------------------------------------------------------+\n"
     ]
    }
   ],
   "source": [
    "! nvidia-smi"
   ]
  },
  {
   "cell_type": "code",
   "execution_count": 2,
   "metadata": {
    "colab": {
     "base_uri": "https://localhost:8080/"
    },
    "id": "bOCar0V-fCCN",
    "outputId": "823e690c-f3d5-4bb1-a879-6f54c41b1f20"
   },
   "outputs": [
    {
     "name": "stdout",
     "output_type": "stream",
     "text": [
      "2.3.0\n"
     ]
    }
   ],
   "source": [
    "import tensorflow as tf\n",
    "print( tf.__version__)"
   ]
  },
  {
   "cell_type": "markdown",
   "metadata": {
    "id": "hQLLWeR9feju"
   },
   "source": [
    "clone tensorflow model official repo"
   ]
  },
  {
   "cell_type": "code",
   "execution_count": 3,
   "metadata": {
    "colab": {
     "base_uri": "https://localhost:8080/"
    },
    "id": "_jNaT1yhfYrZ",
    "outputId": "bf14307e-c6b0-4e28-e34e-d36094593c6c"
   },
   "outputs": [
    {
     "name": "stdout",
     "output_type": "stream",
     "text": [
      "Cloning into 'models'...\n",
      "remote: Enumerating objects: 2650, done.\u001b[K\n",
      "remote: Counting objects: 100% (2650/2650), done.\u001b[K\n",
      "remote: Compressing objects: 100% (2319/2319), done.\u001b[K\n",
      "remote: Total 2650 (delta 511), reused 1351 (delta 298), pack-reused 0\u001b[K\n",
      "Receiving objects: 100% (2650/2650), 34.01 MiB | 25.61 MiB/s, done.\n",
      "Resolving deltas: 100% (511/511), done.\n",
      "Note: checking out '400d68abbccda2f0f6609e3a924467718b144233'.\n",
      "\n",
      "You are in 'detached HEAD' state. You can look around, make experimental\n",
      "changes and commit them, and you can discard any commits you make in this\n",
      "state without impacting any branches by performing another checkout.\n",
      "\n",
      "If you want to create a new branch to retain commits you create, you may\n",
      "do so (now or later) by using -b with the checkout command again. Example:\n",
      "\n",
      "  git checkout -b <new-branch-name>\n",
      "\n"
     ]
    }
   ],
   "source": [
    "!git clone --depth 1 -b v2.3.0 https://github.com/tensorflow/models.git"
   ]
  },
  {
   "cell_type": "code",
   "execution_count": 4,
   "metadata": {
    "colab": {
     "base_uri": "https://localhost:8080/"
    },
    "id": "b5wDiZPIfsfp",
    "outputId": "d5f8bd3e-6e1b-4ca0-95e2-9b81400f0281"
   },
   "outputs": [
    {
     "name": "stdout",
     "output_type": "stream",
     "text": [
      "\u001b[?25l\r",
      "\u001b[K     |█████▎                          | 10kB 30.5MB/s eta 0:00:01\r",
      "\u001b[K     |██████████▋                     | 20kB 33.8MB/s eta 0:00:01\r",
      "\u001b[K     |████████████████                | 30kB 16.4MB/s eta 0:00:01\r",
      "\u001b[K     |█████████████████████▎          | 40kB 11.1MB/s eta 0:00:01\r",
      "\u001b[K     |██████████████████████████▋     | 51kB 7.2MB/s eta 0:00:01\r",
      "\u001b[K     |████████████████████████████████| 61kB 8.2MB/s eta 0:00:01\r",
      "\u001b[K     |████████████████████████████████| 71kB 5.5MB/s \n",
      "\u001b[K     |████████████████████████████████| 215kB 11.5MB/s \n",
      "\u001b[K     |████████████████████████████████| 61kB 8.2MB/s \n",
      "\u001b[K     |████████████████████████████████| 14.5MB 253kB/s \n",
      "\u001b[K     |████████████████████████████████| 471kB 56.6MB/s \n",
      "\u001b[K     |████████████████████████████████| 102kB 15.2MB/s \n",
      "\u001b[K     |████████████████████████████████| 25.9MB 126kB/s \n",
      "\u001b[K     |████████████████████████████████| 174kB 60.6MB/s \n",
      "\u001b[K     |████████████████████████████████| 3.6MB 56.4MB/s \n",
      "\u001b[K     |████████████████████████████████| 1.1MB 51.3MB/s \n",
      "\u001b[K     |████████████████████████████████| 51kB 9.3MB/s \n",
      "\u001b[K     |████████████████████████████████| 358kB 56.4MB/s \n",
      "\u001b[K     |████████████████████████████████| 1.1MB 49.8MB/s \n",
      "\u001b[K     |████████████████████████████████| 11.6MB 198kB/s \n",
      "\u001b[K     |████████████████████████████████| 36.7MB 88kB/s \n",
      "\u001b[K     |████████████████████████████████| 276kB 53.9MB/s \n",
      "\u001b[K     |████████████████████████████████| 2.2MB 37.2MB/s \n",
      "\u001b[K     |████████████████████████████████| 92kB 11.4MB/s \n",
      "\u001b[K     |████████████████████████████████| 51kB 7.2MB/s \n",
      "\u001b[K     |████████████████████████████████| 81kB 13.3MB/s \n",
      "\u001b[?25h  Building wheel for kaggle (setup.py) ... \u001b[?25l\u001b[?25hdone\n",
      "  Building wheel for psutil (setup.py) ... \u001b[?25l\u001b[?25hdone\n",
      "  Building wheel for py-cpuinfo (setup.py) ... \u001b[?25l\u001b[?25hdone\n",
      "  Building wheel for pyyaml (setup.py) ... \u001b[?25l\u001b[?25hdone\n",
      "  Building wheel for proto-plus (setup.py) ... \u001b[?25l\u001b[?25hdone\n",
      "\u001b[31mERROR: tensorflow 2.3.0 has requirement numpy<1.19.0,>=1.16.0, but you'll have numpy 1.19.4 which is incompatible.\u001b[0m\n",
      "\u001b[31mERROR: tensorflow 2.3.0 has requirement scipy==1.4.1, but you'll have scipy 1.5.4 which is incompatible.\u001b[0m\n",
      "\u001b[31mERROR: pandas-gbq 0.13.3 has requirement google-cloud-bigquery[bqstorage,pandas]<2.0.0dev,>=1.11.1, but you'll have google-cloud-bigquery 2.4.0 which is incompatible.\u001b[0m\n",
      "\u001b[31mERROR: google-cloud-storage 1.18.1 has requirement google-resumable-media<0.5.0dev,>=0.3.1, but you'll have google-resumable-media 1.1.0 which is incompatible.\u001b[0m\n",
      "\u001b[31mERROR: google-api-core 1.23.0 has requirement google-auth<2.0dev,>=1.21.1, but you'll have google-auth 1.17.2 which is incompatible.\u001b[0m\n",
      "\u001b[31mERROR: datascience 0.10.6 has requirement folium==0.2.1, but you'll have folium 0.8.3 which is incompatible.\u001b[0m\n",
      "\u001b[31mERROR: albumentations 0.1.12 has requirement imgaug<0.2.7,>=0.2.5, but you'll have imgaug 0.2.9 which is incompatible.\u001b[0m\n"
     ]
    }
   ],
   "source": [
    "# install requirements to use tensorflow/models repository\n",
    "!pip install -Uqr models/official/requirements.txt\n",
    "# you may have to restart the runtime afterwards"
   ]
  },
  {
   "cell_type": "markdown",
   "metadata": {
    "id": "KekTRGM-f5W-"
   },
   "source": [
    "restart the kernal after this installation"
   ]
  },
  {
   "cell_type": "code",
   "execution_count": 3,
   "metadata": {
    "id": "dGkcIP-rfwm1"
   },
   "outputs": [],
   "source": [
    "import numpy as np\n",
    "import tensorflow as tf\n",
    "import tensorflow_hub as hub\n",
    "import sys\n",
    "sys.path.append('models')\n",
    "from official.nlp.data import classifier_data_lib\n",
    "from official.nlp.bert import tokenization\n",
    "from official.nlp import optimization"
   ]
  },
  {
   "cell_type": "code",
   "execution_count": 4,
   "metadata": {
    "colab": {
     "base_uri": "https://localhost:8080/"
    },
    "id": "527AZDNAgcs8",
    "outputId": "bf2e6196-6c38-4474-b74c-fa60ad5e7dea"
   },
   "outputs": [
    {
     "name": "stdout",
     "output_type": "stream",
     "text": [
      "TF Version:  2.3.0\n",
      "Eager mode:  True\n",
      "Hub version:  0.10.0\n",
      "GPU is available\n"
     ]
    }
   ],
   "source": [
    "print(\"TF Version: \", tf.__version__)\n",
    "print(\"Eager mode: \", tf.executing_eagerly())\n",
    "print(\"Hub version: \", hub.__version__)\n",
    "print(\"GPU is\", \"available\" if tf.config.experimental.list_physical_devices(\"GPU\") else \"NOT AVAILABLE\")"
   ]
  },
  {
   "cell_type": "markdown",
   "metadata": {
    "id": "nL0yKpnFgnZG"
   },
   "source": [
    "Donwload the Quora Insincere Questions Classification data can be found https://archive.org/download/fine-tune-bert-tensorflow-train.csv/train.csv.zip. Decompress and read the data into a pandas DataFrame."
   ]
  },
  {
   "cell_type": "code",
   "execution_count": 5,
   "metadata": {
    "id": "iWObvzgMgg21"
   },
   "outputs": [],
   "source": [
    "import numpy as np\n",
    "import pandas as pd\n",
    "from sklearn.model_selection import train_test_split\n",
    "df = pd.read_csv(\"https://archive.org/download/fine-tune-bert-tensorflow-train.csv/train.csv.zip\",\n",
    "                 compression='zip')"
   ]
  },
  {
   "cell_type": "markdown",
   "metadata": {
    "id": "dQS_ms2MhPYY"
   },
   "source": [
    "Explore the dataset"
   ]
  },
  {
   "cell_type": "code",
   "execution_count": 6,
   "metadata": {
    "colab": {
     "base_uri": "https://localhost:8080/",
     "height": 204
    },
    "id": "eHzTahxrhBf-",
    "outputId": "e3b73f7e-d3bc-44d4-c90e-f25777f91278"
   },
   "outputs": [
    {
     "data": {
      "text/html": [
       "<div>\n",
       "<style scoped>\n",
       "    .dataframe tbody tr th:only-of-type {\n",
       "        vertical-align: middle;\n",
       "    }\n",
       "\n",
       "    .dataframe tbody tr th {\n",
       "        vertical-align: top;\n",
       "    }\n",
       "\n",
       "    .dataframe thead th {\n",
       "        text-align: right;\n",
       "    }\n",
       "</style>\n",
       "<table border=\"1\" class=\"dataframe\">\n",
       "  <thead>\n",
       "    <tr style=\"text-align: right;\">\n",
       "      <th></th>\n",
       "      <th>qid</th>\n",
       "      <th>question_text</th>\n",
       "      <th>target</th>\n",
       "    </tr>\n",
       "  </thead>\n",
       "  <tbody>\n",
       "    <tr>\n",
       "      <th>0</th>\n",
       "      <td>00002165364db923c7e6</td>\n",
       "      <td>How did Quebec nationalists see their province...</td>\n",
       "      <td>0</td>\n",
       "    </tr>\n",
       "    <tr>\n",
       "      <th>1</th>\n",
       "      <td>000032939017120e6e44</td>\n",
       "      <td>Do you have an adopted dog, how would you enco...</td>\n",
       "      <td>0</td>\n",
       "    </tr>\n",
       "    <tr>\n",
       "      <th>2</th>\n",
       "      <td>0000412ca6e4628ce2cf</td>\n",
       "      <td>Why does velocity affect time? Does velocity a...</td>\n",
       "      <td>0</td>\n",
       "    </tr>\n",
       "    <tr>\n",
       "      <th>3</th>\n",
       "      <td>000042bf85aa498cd78e</td>\n",
       "      <td>How did Otto von Guericke used the Magdeburg h...</td>\n",
       "      <td>0</td>\n",
       "    </tr>\n",
       "    <tr>\n",
       "      <th>4</th>\n",
       "      <td>0000455dfa3e01eae3af</td>\n",
       "      <td>Can I convert montra helicon D to a mountain b...</td>\n",
       "      <td>0</td>\n",
       "    </tr>\n",
       "  </tbody>\n",
       "</table>\n",
       "</div>"
      ],
      "text/plain": [
       "                    qid  ... target\n",
       "0  00002165364db923c7e6  ...      0\n",
       "1  000032939017120e6e44  ...      0\n",
       "2  0000412ca6e4628ce2cf  ...      0\n",
       "3  000042bf85aa498cd78e  ...      0\n",
       "4  0000455dfa3e01eae3af  ...      0\n",
       "\n",
       "[5 rows x 3 columns]"
      ]
     },
     "execution_count": 6,
     "metadata": {
      "tags": []
     },
     "output_type": "execute_result"
    }
   ],
   "source": [
    "df.head()"
   ]
  },
  {
   "cell_type": "code",
   "execution_count": 7,
   "metadata": {
    "colab": {
     "base_uri": "https://localhost:8080/"
    },
    "id": "IKqHxQYDhR8E",
    "outputId": "9a2afe6f-508c-4d9f-ce56-f2bddda3fb7e"
   },
   "outputs": [
    {
     "data": {
      "text/plain": [
       "(1306122, 3)"
      ]
     },
     "execution_count": 7,
     "metadata": {
      "tags": []
     },
     "output_type": "execute_result"
    }
   ],
   "source": [
    "df.shape"
   ]
  },
  {
   "cell_type": "code",
   "execution_count": 8,
   "metadata": {
    "colab": {
     "base_uri": "https://localhost:8080/",
     "height": 293
    },
    "id": "WAzBKPyXhjf-",
    "outputId": "cc14ec5b-f843-4dd9-e75f-b0a34022ac99"
   },
   "outputs": [
    {
     "data": {
      "text/plain": [
       "<AxesSubplot:ylabel='Frequency'>"
      ]
     },
     "execution_count": 8,
     "metadata": {
      "tags": []
     },
     "output_type": "execute_result"
    },
    {
     "data": {
      "image/png": "[encoded data removed]",
      "text/plain": [
       "<Figure size 432x288 with 1 Axes>"
      ]
     },
     "metadata": {
      "needs_background": "light",
      "tags": []
     },
     "output_type": "display_data"
    }
   ],
   "source": [
    "df.target.plot(kind='hist')"
   ]
  },
  {
   "cell_type": "markdown",
   "metadata": {
    "id": "kPauJi6_hXTj"
   },
   "source": [
    "split the dataset"
   ]
  },
  {
   "cell_type": "code",
   "execution_count": 21,
   "metadata": {
    "id": "f92o2AaThbyR"
   },
   "outputs": [],
   "source": [
    "train_df , remaining = train_test_split(df, \n",
    "                                        random_state= 42,\n",
    "                                        train_size=0.0095,\n",
    "                                        stratify=df.target)\n",
    "valid_df , _ = train_test_split(remaining, \n",
    "                                random_state= 42,\n",
    "                                train_size=0.0075,\n",
    "                                stratify=remaining.target)"
   ]
  },
  {
   "cell_type": "code",
   "execution_count": 22,
   "metadata": {
    "colab": {
     "base_uri": "https://localhost:8080/"
    },
    "id": "zHcEDk9DiVXV",
    "outputId": "123ab1fe-7bde-43b8-d25a-b563b2ee6556"
   },
   "outputs": [
    {
     "name": "stdout",
     "output_type": "stream",
     "text": [
      "shape of the training df >  (12408, 3)\n",
      "shape of the validation df >  (9702, 3)\n"
     ]
    }
   ],
   "source": [
    "print(\"shape of the training df > \",train_df.shape)\n",
    "print(\"shape of the validation df > \",valid_df.shape)"
   ]
  },
  {
   "cell_type": "markdown",
   "metadata": {
    "id": "fPvR1Y9aipqc"
   },
   "source": [
    "Create tf.data.Datasets for Training and Evaluation"
   ]
  },
  {
   "cell_type": "code",
   "execution_count": 23,
   "metadata": {
    "id": "E_Toxc6Ricx8"
   },
   "outputs": [],
   "source": [
    "with tf.device('/cpu:0'):\n",
    "  train_data = tf.data.Dataset.from_tensor_slices((train_df['question_text'].values, train_df['target'].values))\n",
    "  valid_data = tf.data.Dataset.from_tensor_slices((valid_df['question_text'].values, valid_df['target'].values))"
   ]
  },
  {
   "cell_type": "code",
   "execution_count": 24,
   "metadata": {
    "colab": {
     "base_uri": "https://localhost:8080/"
    },
    "id": "goyxKPC_jXch",
    "outputId": "a88134e4-c990-426d-f478-63e357d5f745"
   },
   "outputs": [
    {
     "name": "stdout",
     "output_type": "stream",
     "text": [
      "tf.Tensor(b'What is the age of JESUS on the first day of the first month of AD?', shape=(), dtype=string) tf.Tensor(0, shape=(), dtype=int64)\n",
      "tf.Tensor(b\"Why isn't the fourth season of Flash on Netflix yet, and when will it come onto Netflix?\", shape=(), dtype=string) tf.Tensor(0, shape=(), dtype=int64)\n"
     ]
    }
   ],
   "source": [
    "for text, target in train_data.take(2):\n",
    "  print(text, target)"
   ]
  },
  {
   "cell_type": "code",
   "execution_count": 12,
   "metadata": {
    "id": "5HZu5cBojnTR"
   },
   "outputs": [],
   "source": []
  },
  {
   "cell_type": "markdown",
   "metadata": {
    "id": "uT6HNxRnka2F"
   },
   "source": [
    "*Download a Pre-trained BERT Model from TensorFlow Hub*"
   ]
  },
  {
   "cell_type": "code",
   "execution_count": 25,
   "metadata": {
    "id": "kSWP9DYBkdmc"
   },
   "outputs": [],
   "source": [
    "\"\"\"\n",
    "Each line of the dataset is composed of the review text and its label\n",
    "- Data preprocessing consists of transforming text to BERT input features:\n",
    "input_word_ids, input_mask, segment_ids\n",
    "- In the process, tokenizing the text is done with the provided BERT model tokenizer\n",
    "\"\"\"\n",
    "label_list = [1, 0]\n",
    "max_seq_length = 128\n",
    "train_batch_size = 128\n",
    "\n",
    "# Get BERT layer and tokenizer:\n",
    "# More details here: https://tfhub.dev/tensorflow/bert_en_uncased_L-12_H-768_A-12/2\n",
    "\n",
    "bert_layer = hub.KerasLayer(\"https://tfhub.dev/tensorflow/bert_en_uncased_L-12_H-768_A-12/2\",\n",
    "                            trainable=True)\n",
    "vocab_file = bert_layer.resolved_object.vocab_file.asset_path.numpy()  \n",
    "do_lower_case = bert_layer.resolved_object.do_lower_case.numpy()\n",
    "tokenizer = tokenization.FullTokenizer(vocab_file, do_lower_case)"
   ]
  },
  {
   "cell_type": "markdown",
   "metadata": {
    "id": "FxwFdiMQmO65"
   },
   "source": [
    "\n",
    "**Tokenize and Preprocess Text for BERT**\n",
    "\n",
    "We'll need to transform our data into a format BERT understands. This involves two steps. First, we create InputExamples using classifier_data_lib's constructor InputExample provided in the BERT library."
   ]
  },
  {
   "cell_type": "code",
   "execution_count": 26,
   "metadata": {
    "id": "6O10JjSDlnAZ"
   },
   "outputs": [],
   "source": [
    "def to_feature(text , label, label_list=label_list, max_seq_length=max_seq_length, tokenizer=tokenizer):\n",
    "  example = classifier_data_lib.InputExample(None,\n",
    "                                      text_a=text.numpy(),\n",
    "                                      text_b=None,\n",
    "                                      label= label.numpy())\n",
    "  \n",
    "  features = classifier_data_lib.convert_single_example(0,\n",
    "                                                        example,\n",
    "                                                        label_list,\n",
    "                                                        max_seq_length,\n",
    "                                                        tokenizer)\n",
    "  return (features.input_ids , features.input_mask, features.segment_ids, features.label_id)"
   ]
  },
  {
   "cell_type": "markdown",
   "metadata": {
    "id": "5MvBHqlQoOt_"
   },
   "source": [
    "You want to use [`Dataset.map`](https://www.tensorflow.org/api_docs/python/tf/data/Dataset#map) to apply this function to each element of the dataset. [`Dataset.map`](https://www.tensorflow.org/api_docs/python/tf/data/Dataset#map) runs in graph mode.\n",
    "\n",
    "- Graph tensors do not have a value.\n",
    "- In graph mode you can only use TensorFlow Ops and functions.\n",
    "\n",
    "So you can't `.map` this function directly: You need to wrap it in a [`tf.py_function`](https://www.tensorflow.org/api_docs/python/tf/py_function). The [`tf.py_function`](https://www.tensorflow.org/api_docs/python/tf/py_function) will pass regular tensors (with a value and a `.numpy()` method to access it), to the wrapped python function."
   ]
  },
  {
   "cell_type": "markdown",
   "metadata": {
    "id": "NA330eL4oRja"
   },
   "source": [
    "Wrap a Python Function into a TensorFlow op for Eager Execution"
   ]
  },
  {
   "cell_type": "code",
   "execution_count": 27,
   "metadata": {
    "id": "XPKgkANNm0Jm"
   },
   "outputs": [],
   "source": [
    "def to_feature_map(text, label):\n",
    "  input_ids , input_mask , segment_ids , label_id = tf.py_function(to_feature,\n",
    "                                                                   inp=[text, label],\n",
    "                                                                   Tout=[tf.int32, tf.int32, tf.int32, tf.int32])\n",
    "  input_ids.set_shape([max_seq_length])\n",
    "  input_mask.set_shape([max_seq_length])\n",
    "  segment_ids.set_shape([max_seq_length])\n",
    "  label_id.set_shape([])\n",
    "  x ={\n",
    "      'input_word_ids': input_ids,\n",
    "      'input_mask': input_mask,\n",
    "      'input_type_ids': segment_ids\n",
    "      }\n",
    "  return (x, label_id)"
   ]
  },
  {
   "cell_type": "markdown",
   "metadata": {
    "id": "XuI74g8speFV"
   },
   "source": [
    "Create a TensorFlow Input Pipeline with tf.data"
   ]
  },
  {
   "cell_type": "code",
   "execution_count": 28,
   "metadata": {
    "id": "RvVrSwU3m0mp"
   },
   "outputs": [],
   "source": [
    "with tf.device('/cpu:0'):\n",
    "  # training\n",
    "  train_data = (train_data.map(to_feature_map,\n",
    "                              num_parallel_calls = tf.data.experimental.AUTOTUNE)\n",
    "  .shuffle(1000)\n",
    "  .batch(32, drop_remainder=True)\n",
    "  .prefetch(tf.data.experimental.AUTOTUNE))\n",
    "\n",
    "  # validation\n",
    "  valid_data= (valid_data.map(to_feature_map,\n",
    "                              num_parallel_calls= tf.data.experimental.AUTOTUNE)\n",
    "  .batch(32, drop_remainder=True)\n",
    "  .prefetch(tf.data.experimental.AUTOTUNE))"
   ]
  },
  {
   "cell_type": "markdown",
   "metadata": {
    "id": "SIuqNr7hqyNf"
   },
   "source": [
    "The resulting tf.data.Datasets return (features, labels) pairs, as expected by keras.Model.fit:"
   ]
  },
  {
   "cell_type": "markdown",
   "metadata": {
    "id": "PmnZxGJzq2cR"
   },
   "source": [
    "# Building the model"
   ]
  },
  {
   "cell_type": "code",
   "execution_count": 16,
   "metadata": {
    "id": "egnmZ704rAiQ"
   },
   "outputs": [],
   "source": []
  },
  {
   "cell_type": "code",
   "execution_count": 29,
   "metadata": {
    "id": "02d26A84qt49"
   },
   "outputs": [],
   "source": [
    "def create_model():\n",
    "    input_word_ids = tf.keras.layers.Input(shape=(max_seq_length,), \n",
    "                                           dtype=tf.int32,\n",
    "                                           name=\"input_word_ids\")\n",
    "    input_mask  = tf.keras.layers.Input(shape=(max_seq_length,),\n",
    "                                        dtype= tf.int32,\n",
    "                                        name= \"input_mask\")\n",
    "    input_type_ids  = tf.keras.layers.Input(shape=(max_seq_length,),\n",
    "                                        dtype= tf.int32,\n",
    "                                        name= \"input_type_ids\")\n",
    "    pooled_output , sequence_output = bert_layer([input_word_ids, input_mask, input_type_ids])\n",
    "    drop = tf.keras.layers.Dropout(.4)(pooled_output)\n",
    "    dense_layer_1 =  tf.keras.layers.Dense(128, activation='relu', name='layer_dense_1')(drop)\n",
    "    dense_layer_2 =  tf.keras.layers.Dense(64, activation='relu', name='layer_dense_2')(dense_layer_1)\n",
    "    output = tf.keras.layers.Dense(1, activation='sigmoid', name='output')(dense_layer_2)\n",
    "    model = tf.keras.Model(\n",
    "        inputs= {\n",
    "            \"input_word_ids\":input_word_ids,\n",
    "          \"input_mask\":input_mask,\n",
    "          \"input_type_ids\": input_type_ids\n",
    "        },\n",
    "        outputs = output\n",
    "    )\n",
    "    return model"
   ]
  },
  {
   "cell_type": "markdown",
   "metadata": {
    "id": "JIlvGfaFslRT"
   },
   "source": [
    "## Fine-Tune BERT for Text Classification"
   ]
  },
  {
   "cell_type": "code",
   "execution_count": 30,
   "metadata": {
    "colab": {
     "base_uri": "https://localhost:8080/"
    },
    "id": "4N9shpbSseIB",
    "outputId": "6bd758c2-c63b-45f9-9551-fce603c71d0b"
   },
   "outputs": [
    {
     "name": "stdout",
     "output_type": "stream",
     "text": [
      "Model: \"functional_1\"\n",
      "__________________________________________________________________________________________________\n",
      "Layer (type)                    Output Shape         Param #     Connected to                     \n",
      "==================================================================================================\n",
      "input_word_ids (InputLayer)     [(None, 128)]        0                                            \n",
      "__________________________________________________________________________________________________\n",
      "input_mask (InputLayer)         [(None, 128)]        0                                            \n",
      "__________________________________________________________________________________________________\n",
      "input_type_ids (InputLayer)     [(None, 128)]        0                                            \n",
      "__________________________________________________________________________________________________\n",
      "keras_layer (KerasLayer)        [(None, 768), (None, 109482241   input_word_ids[0][0]             \n",
      "                                                                 input_mask[0][0]                 \n",
      "                                                                 input_type_ids[0][0]             \n",
      "__________________________________________________________________________________________________\n",
      "dropout (Dropout)               (None, 768)          0           keras_layer[0][0]                \n",
      "__________________________________________________________________________________________________\n",
      "layer_dense_1 (Dense)           (None, 128)          98432       dropout[0][0]                    \n",
      "__________________________________________________________________________________________________\n",
      "layer_dense_2 (Dense)           (None, 64)           8256        layer_dense_1[0][0]              \n",
      "__________________________________________________________________________________________________\n",
      "output (Dense)                  (None, 1)            65          layer_dense_2[0][0]              \n",
      "==================================================================================================\n",
      "Total params: 109,588,994\n",
      "Trainable params: 109,588,993\n",
      "Non-trainable params: 1\n",
      "__________________________________________________________________________________________________\n"
     ]
    }
   ],
   "source": [
    "model = create_model()\n",
    "model.compile(optimizer= tf.keras.optimizers.Adam(learning_rate=2e-5),\n",
    "              loss =tf.keras.losses.BinaryCrossentropy(),\n",
    "              metrics= [tf.keras.metrics.BinaryAccuracy()]\n",
    "              )\n",
    "model.summary() "
   ]
  },
  {
   "cell_type": "code",
   "execution_count": 31,
   "metadata": {
    "colab": {
     "base_uri": "https://localhost:8080/",
     "height": 513
    },
    "id": "CgBOCbzHsyY-",
    "outputId": "b6acc3e5-148c-473a-92ad-7d599fcfa35d"
   },
   "outputs": [
    {
     "data": {
      "image/png": "[encoded data removed]",
      "text/plain": [
       "<IPython.core.display.Image object>"
      ]
     },
     "execution_count": 31,
     "metadata": {
      "tags": []
     },
     "output_type": "execute_result"
    }
   ],
   "source": [
    "tf.keras.utils.plot_model(model,\n",
    "                          show_shapes=True,\n",
    "                          show_layer_names=True,\n",
    "                          dpi=76)"
   ]
  },
  {
   "cell_type": "code",
   "execution_count": 32,
   "metadata": {
    "colab": {
     "base_uri": "https://localhost:8080/"
    },
    "id": "jlhAlVFttH1b",
    "outputId": "ba1ab096-7a8f-4e9e-84a4-80590ca3f85a"
   },
   "outputs": [
    {
     "name": "stdout",
     "output_type": "stream",
     "text": [
      "Epoch 1/4\n",
      "387/387 [==============================] - ETA: 0s - loss: 0.1753 - binary_accuracy: 0.9345WARNING:tensorflow:Callbacks method `on_test_batch_end` is slow compared to the batch time (batch time: 0.0181s vs `on_test_batch_end` time: 0.2613s). Check your callbacks.\n"
     ]
    },
    {
     "name": "stderr",
     "output_type": "stream",
     "text": [
      "WARNING:tensorflow:Callbacks method `on_test_batch_end` is slow compared to the batch time (batch time: 0.0181s vs `on_test_batch_end` time: 0.2613s). Check your callbacks.\n"
     ]
    },
    {
     "name": "stdout",
     "output_type": "stream",
     "text": [
      "\b\b\b\b\b\b\b\b\b\b\b\b\b\b\b\b\b\b\b\b\b\b\b\b\b\b\b\b\b\b\b\b\b\b\b\b\b\b\b\b\b\b\b\b\b\b\b\b\b\b\b\b\b\b\b\b\b\b\b\b\b\b\b\b\b\b\b\b\b\b\b\b\b\b\b\b\b\b\b\b\b\b\b\b\b\b\b\b\b\b\b\r",
      "387/387 [==============================] - 393s 1s/step - loss: 0.1753 - binary_accuracy: 0.9345 - val_loss: 0.1160 - val_binary_accuracy: 0.9543\n",
      "Epoch 2/4\n",
      "387/387 [==============================] - 401s 1s/step - loss: 0.1002 - binary_accuracy: 0.9623 - val_loss: 0.1430 - val_binary_accuracy: 0.9542\n",
      "Epoch 3/4\n",
      "387/387 [==============================] - 402s 1s/step - loss: 0.0593 - binary_accuracy: 0.9784 - val_loss: 0.1608 - val_binary_accuracy: 0.9488\n",
      "Epoch 4/4\n",
      "387/387 [==============================] - 402s 1s/step - loss: 0.0325 - binary_accuracy: 0.9893 - val_loss: 0.1987 - val_binary_accuracy: 0.9538\n"
     ]
    }
   ],
   "source": [
    "# Train model\n",
    "epochs = 4\n",
    "history = model.fit(\n",
    "    train_data,\n",
    "    validation_data= valid_data,\n",
    "    epochs=epochs,\n",
    "    verbose= 1\n",
    ")"
   ]
  },
  {
   "cell_type": "code",
   "execution_count": 33,
   "metadata": {
    "id": "TM1sgDlsuuvQ"
   },
   "outputs": [],
   "source": [
    "import matplotlib.pyplot as plt\n",
    "\n",
    "def plot_graphs(history, metric):\n",
    "  plt.plot(history.history[metric])\n",
    "  plt.plot(history.history['val_'+metric], '')\n",
    "  plt.xlabel(\"Epochs\")\n",
    "  plt.ylabel(metric)\n",
    "  plt.legend([metric, 'val_'+metric])\n",
    "  plt.show()"
   ]
  },
  {
   "cell_type": "code",
   "execution_count": 35,
   "metadata": {
    "colab": {
     "base_uri": "https://localhost:8080/",
     "height": 279
    },
    "id": "stCZ4-EVsLzZ",
    "outputId": "c593f6e9-b44e-4f3f-d736-7e3ade363fb9"
   },
   "outputs": [
    {
     "data": {
      "image/png": "[encoded data removed]",
      "text/plain": [
       "<Figure size 432x288 with 1 Axes>"
      ]
     },
     "metadata": {
      "needs_background": "light",
      "tags": []
     },
     "output_type": "display_data"
    }
   ],
   "source": [
    "plot_graphs(history, 'binary_accuracy')"
   ]
  },
  {
   "cell_type": "code",
   "execution_count": null,
   "metadata": {
    "id": "6abMA3857wMd"
   },
   "outputs": [],
   "source": []
  }
 ],
 "metadata": {
  "accelerator": "GPU",
  "colab": {
   "collapsed_sections": [],
   "name": "Fine Tune BERT for Text Classification with TensorFlow.ipynb",
   "provenance": []
  },
  "kernelspec": {
   "display_name": "Python 3",
   "language": "python",
   "name": "python3"
  },
  "language_info": {
   "codemirror_mode": {
    "name": "ipython",
    "version": 3
   },
   "file_extension": ".py",
   "mimetype": "text/x-python",
   "name": "python",
   "nbconvert_exporter": "python",
   "pygments_lexer": "ipython3",
   "version": "3.8.3"
  }
 },
 "nbformat": 4,
 "nbformat_minor": 1
}
